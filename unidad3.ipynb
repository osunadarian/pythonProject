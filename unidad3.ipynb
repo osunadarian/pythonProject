{
 "cells": [
  {
   "cell_type": "markdown",
   "metadata": {},
   "source": [
    "Ejercicio 2\n",
    "Escriba un programa que consulte al usuario por una oración y comente al usuario cuantas veces aparece la letra “a”. \n"
   ]
  },
  {
   "cell_type": "code",
   "execution_count": 1,
   "metadata": {},
   "outputs": [
    {
     "name": "stdout",
     "output_type": "stream",
     "text": [
      "En el texto escrito la letra A figura 0 veces\n"
     ]
    }
   ],
   "source": [
    "texto = input(\"Ingrese un texto para saber cuantas veces aparece la letra A: \")\n",
    "texto = texto.lower()\n",
    "\n",
    "letraBuscada = texto.count(\"a\")\n",
    "\n",
    "print(f\"En el texto escrito la letra A figura {letraBuscada} veces\")"
   ]
  },
  {
   "cell_type": "markdown",
   "metadata": {},
   "source": [
    "Ejercicio 3\n",
    "Escriba un programa que consulte al usuario por una oración y comente al usuario cuantas veces aparecen todas las vocales considerando minúsculas, mayúsculas y acentos.  "
   ]
  },
  {
   "cell_type": "code",
   "execution_count": 1,
   "metadata": {},
   "outputs": [
    {
     "name": "stdout",
     "output_type": "stream",
     "text": [
      "En el texto hay 0 vocales\n"
     ]
    }
   ],
   "source": [
    "texto = input(\"Ingrese un texto para saber cuantas vocales aparecen: \")\n",
    "contador = 0\n",
    "vocales = \"aeiouAEIOUáéíóúÁÉÍÓÚ\"\n",
    "\n",
    "for letra in texto:\n",
    "\n",
    "    if letra in vocales:\n",
    "        contador += 1\n",
    "\n",
    "\n",
    "print(f\"En el texto hay {contador} vocales\")"
   ]
  },
  {
   "cell_type": "markdown",
   "metadata": {},
   "source": [
    "Ejercicio 4\n",
    "Escriba un programa que solicite la edad de la persona e imprima todos los años que la persona ha cumplido. "
   ]
  },
  {
   "cell_type": "code",
   "execution_count": null,
   "metadata": {},
   "outputs": [],
   "source": [
    "edadIngresada = int(input(\"Ingrese su edad: \"))\n",
    "\n",
    "while edadIngresada > 0:\n",
    "    print(f\"{edadIngresada}\")\n",
    "    edadIngresada -= 1"
   ]
  },
  {
   "cell_type": "markdown",
   "metadata": {},
   "source": [
    "Ejercicio 5\n",
    "Suponga que tiene una verdulería y carga la cantidad y el precio de lo comprado por un cliente. Realice un programa que tome de a uno la cantidad y el precio comprado por el cliente y al finalizar la compra retorne el monto total gastado. "
   ]
  },
  {
   "cell_type": "code",
   "execution_count": null,
   "metadata": {},
   "outputs": [],
   "source": [
    "exit = 2\n",
    "totalCompraFinal = 0\n",
    "\n",
    "while exit == 2:\n",
    "\n",
    "    nombreProducto = input(\"Ingrese nombre del producto: \")\n",
    "    cantidad = int(input(\"Ingrese cantidad de unidades del producto: \"))\n",
    "    precio = float(input(\"Ingrese el precio del producto\"))\n",
    "\n",
    "    totalCompraParcial = cantidad * precio\n",
    "    print(f\"El total parcial gastado es de ${totalCompraParcial}\")\n",
    "\n",
    "    exit = int(input(\"Desea finalizar la compra? \\n1- SI\\n2- NO\"))\n",
    "    \n",
    "    totalCompraFinal = totalCompraFinal + totalCompraParcial\n",
    "\n",
    "print(f\"El monto total de la compra es de ${totalCompraFinal}\")\n"
   ]
  },
  {
   "cell_type": "markdown",
   "metadata": {},
   "source": [
    "Ejercicio 6\n",
    "A partir del ejercicio 5 cree un programa que vaya agregando en una lista las compras realizadas."
   ]
  },
  {
   "cell_type": "code",
   "execution_count": null,
   "metadata": {},
   "outputs": [],
   "source": [
    "import pprint\n",
    "\n",
    "exit = 2\n",
    "totalCompraFinal = 0\n",
    "listaFinal = []\n",
    "\n",
    "while exit == 2:\n",
    "\n",
    "    nombreProducto = input(\"Ingrese nombre del producto: \")\n",
    "    cantidad = int(input(\"Ingrese cantidad de unidades del producto: \"))\n",
    "    precio = float(input(\"Ingrese el precio del producto\"))\n",
    "    infoProducto = [nombreProducto,cantidad,precio]\n",
    "\n",
    "    totalCompraParcial = cantidad * precio\n",
    "    print(f\"El total parcial gastado es de ${totalCompraParcial}\")\n",
    "\n",
    "    exit = int(input(\"Desea finalizar la compra? \\n1- SI\\n2- NO\"))\n",
    "    \n",
    "    totalCompraFinal = totalCompraFinal + totalCompraParcial\n",
    "\n",
    "    listaFinal.append(infoProducto)\n",
    "\n",
    "print(f\"El monto total de la compra es de ${totalCompraFinal}\")\n",
    "\n",
    "for producto in listaFinal:\n",
    "    print(*listaFinal, sep=\" , \")"
   ]
  },
  {
   "cell_type": "code",
   "execution_count": 1,
   "metadata": {},
   "outputs": [
    {
     "name": "stdout",
     "output_type": "stream",
     "text": [
      "Hay tomate\n"
     ]
    }
   ],
   "source": [
    "lista = [\"Tomate\", \"Manzana\", \"Naranja\", \"Lechuga\", \"Pepino\"]\n",
    "\n",
    "for x in lista:\n",
    "    if x == \"Tomate\":\n",
    "        print(\"Hay tomate\")"
   ]
  },
  {
   "cell_type": "markdown",
   "metadata": {},
   "source": [
    "Ejercicio 1 – Dificultad baja\n",
    "Cree una función lamba que compruebe si un número es par o impar."
   ]
  },
  {
   "cell_type": "code",
   "execution_count": 4,
   "metadata": {},
   "outputs": [
    {
     "data": {
      "text/plain": [
       "False"
      ]
     },
     "execution_count": 4,
     "metadata": {},
     "output_type": "execute_result"
    }
   ],
   "source": [
    "esPar = lambda num : num % 2 == 0\n",
    "\n",
    "esPar(2)"
   ]
  },
  {
   "cell_type": "markdown",
   "metadata": {},
   "source": [
    "Ejercicio 2 – Dificultad media\n",
    "\n",
    "Crear una función lambda que sea equivalente a la siguiente función:\n",
    "\n",
    "def multiplicar_por_tres(valor):\n",
    " res = 3 * valor\n",
    " return res"
   ]
  },
  {
   "cell_type": "code",
   "execution_count": 5,
   "metadata": {},
   "outputs": [
    {
     "data": {
      "text/plain": [
       "9"
      ]
     },
     "execution_count": 5,
     "metadata": {},
     "output_type": "execute_result"
    }
   ],
   "source": [
    "multiplicar = lambda valor : valor*3\n",
    "\n",
    "multiplicar(3)"
   ]
  },
  {
   "cell_type": "markdown",
   "metadata": {},
   "source": [
    "Ejercicio 3 – Dificultad media\n",
    "\n",
    "Crear una función lambda que sea equivalente a la siguiente funcion\n",
    "\n",
    "def sumar(valor1, valor2):\n",
    " res = valor1 + valor2\n",
    " return res"
   ]
  },
  {
   "cell_type": "code",
   "execution_count": 8,
   "metadata": {},
   "outputs": [
    {
     "data": {
      "text/plain": [
       "10"
      ]
     },
     "execution_count": 8,
     "metadata": {},
     "output_type": "execute_result"
    }
   ],
   "source": [
    "suma = lambda a, b : a + b\n",
    "\n",
    "suma(4,6)"
   ]
  },
  {
   "cell_type": "markdown",
   "metadata": {},
   "source": [
    "Ejercicio 4 – Dificultad alta\n",
    "\n",
    "Crear una función lambda que tome como parámetro una frase y la escriba al revés"
   ]
  },
  {
   "cell_type": "code",
   "execution_count": 9,
   "metadata": {},
   "outputs": [
    {
     "data": {
      "text/plain": [
       "'atse se esarf aL'"
      ]
     },
     "execution_count": 9,
     "metadata": {},
     "output_type": "execute_result"
    }
   ],
   "source": [
    "alReves = lambda frase : frase[::-1]\n",
    "\n",
    "alReves(\"La frase es esta\")"
   ]
  },
  {
   "cell_type": "markdown",
   "metadata": {},
   "source": [
    "Ejercicio 5 – Dificultad media\n",
    "\n",
    "Cree un programa que utilizando una función, solicite la edad de la persona e imprima todos los años que la persona ha cumplido según el siguiente formato de ejemplo.\n",
    "1, 2, 3, 4, 5\n",
    "Y\n",
    "5, 4, 3, 2, 1"
   ]
  },
  {
   "cell_type": "code",
   "execution_count": 10,
   "metadata": {},
   "outputs": [
    {
     "name": "stdout",
     "output_type": "stream",
     "text": [
      "[1, 2, 3, 4, 5, 6, 7, 8, 9, 10, 11, 12, 13, 14, 15, 16, 17, 18]\n",
      "[18, 17, 16, 15, 14, 13, 12, 11, 10, 9, 8, 7, 6, 5, 4, 3, 2, 1]\n"
     ]
    }
   ],
   "source": [
    "def edadPorPantalla(edad):\n",
    "\n",
    "    lista = []\n",
    "    valor = 1\n",
    "\n",
    "    while valor <= edad:\n",
    "\n",
    "        lista.append(valor)\n",
    "        valor+=1\n",
    "\n",
    "    return lista\n",
    "    \n",
    "edad = int(input(\"Digite su edad: \"))\n",
    "añosCumplidos = edadPorPantalla(edad)\n",
    "print(añosCumplidos)\n",
    "print(añosCumplidos[::-1])"
   ]
  },
  {
   "cell_type": "markdown",
   "metadata": {},
   "source": [
    "Ejercicio 6 – Dificultad alta\n",
    "\n",
    "Cree una función que tome la siguiente lista y reorden de menor a mayor sus componentes\n",
    "\n",
    "[3, 44, 21, 78, 5, 56, 9]"
   ]
  },
  {
   "cell_type": "code",
   "execution_count": 12,
   "metadata": {},
   "outputs": [
    {
     "name": "stdout",
     "output_type": "stream",
     "text": [
      "[3, 5, 9, 21, 44, 56, 78]\n"
     ]
    }
   ],
   "source": [
    "def ordenarLista(listaNumeros):\n",
    "\n",
    "    listaNumeros.sort()\n",
    "\n",
    "    return listaNumeros\n",
    "\n",
    "lista = [3, 44, 21, 78, 5, 56, 9] \n",
    "\n",
    "print(ordenarLista(lista))"
   ]
  }
 ],
 "metadata": {
  "kernelspec": {
   "display_name": "Python 3.10.4 64-bit",
   "language": "python",
   "name": "python3"
  },
  "language_info": {
   "codemirror_mode": {
    "name": "ipython",
    "version": 3
   },
   "file_extension": ".py",
   "mimetype": "text/x-python",
   "name": "python",
   "nbconvert_exporter": "python",
   "pygments_lexer": "ipython3",
   "version": "3.10.4"
  },
  "orig_nbformat": 4,
  "vscode": {
   "interpreter": {
    "hash": "26de051ba29f2982a8de78e945f0abaf191376122a1563185a90213a26c5da77"
   }
  }
 },
 "nbformat": 4,
 "nbformat_minor": 2
}
